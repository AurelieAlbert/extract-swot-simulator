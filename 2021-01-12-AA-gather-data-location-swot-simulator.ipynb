{
 "cells": [
  {
   "cell_type": "code",
   "execution_count": 1,
   "metadata": {},
   "outputs": [],
   "source": [
    "import xarray as xr\n",
    "import numpy as np\n",
    "import glob\n",
    "import os"
   ]
  },
  {
   "cell_type": "code",
   "execution_count": 2,
   "metadata": {},
   "outputs": [],
   "source": [
    "phase='science_phase' # calval_phase or science_phase\n",
    "simu='eNATL60-BLB002' # or eNATL60-BLBT02\n",
    "data='karin' # or nadir"
   ]
  },
  {
   "cell_type": "code",
   "execution_count": 3,
   "metadata": {},
   "outputs": [],
   "source": [
    "latminN=30\n",
    "latmaxN=40\n",
    "lonminN=-55\n",
    "lonmaxN=-40\n"
   ]
  },
  {
   "cell_type": "code",
   "execution_count": 4,
   "metadata": {},
   "outputs": [],
   "source": [
    "latminM=35.1\n",
    "latmaxM=44.4\n",
    "lonminM=-5.7\n",
    "lonmaxM=9.6\n"
   ]
  },
  {
   "cell_type": "code",
   "execution_count": 5,
   "metadata": {},
   "outputs": [],
   "source": [
    "tdir='/work/ALT/swot/aval/wisa/tmp/inland_cleaning/swot_simulator_'+phase+'/'+simu+'-SSH-1h/'+data\n",
    "files=glob.glob(tdir+'/*/*nc')"
   ]
  },
  {
   "cell_type": "code",
   "execution_count": 6,
   "metadata": {},
   "outputs": [],
   "source": [
    "def lat_lon_data_nonan_debut(file):\n",
    "    ds=xr.open_dataset(file)\n",
    "    latfile=ds.latitude\n",
    "    lonfile=ds.longitude\n",
    "    ssh=ds.ssh_karin \n",
    "    isdata=np.where(np.isnan(ssh)==False)\n",
    "    numlines_data=isdata[0]\n",
    "    numlines_data_unique=np.unique(numlines_data)\n",
    "    lat_nonan=[]\n",
    "    lon_nonan=[]\n",
    "    for k in np.arange(len(numlines_data_unique)):\n",
    "        if len(isdata[0])>0:\n",
    "            check=1\n",
    "            lat_nonan.append(latfile[numlines_data_unique[k],0].values)\n",
    "            if lonfile[numlines_data_unique[k],0].values > 180:\n",
    "                lon_nonan.append(lonfile[numlines_data_unique[k],0].values-360)\n",
    "            else:\n",
    "                lon_nonan.append(lonfile[numlines_data_unique[k],0].values)\n",
    "        else:\n",
    "            check=0\n",
    "    return check,lat_nonan,lon_nonan\n"
   ]
  },
  {
   "cell_type": "code",
   "execution_count": null,
   "metadata": {},
   "outputs": [],
   "source": [
    "for f in np.arange(len(files)):\n",
    "    file=files[f]\n",
    "    nfile=file.split('/')[-1]\n",
    "    nnfile=nfile.split('.')[0]\n",
    "    filename='/work/ALT/odatis/eNATL60/alberta/SWOT-sim/'+phase+'/latlon_debut_track_'+nnfile+'.npz'\n",
    "    if not os.path.exists(filename):\n",
    "        check,lat_nonan,lon_nonan=lat_lon_data_nonan_debut(file)\n",
    "        np.savez(filename,lat_nonan = lat_nonan,lon_nonan = lon_nonan)"
   ]
  },
  {
   "cell_type": "code",
   "execution_count": null,
   "metadata": {},
   "outputs": [],
   "source": []
  }
 ],
 "metadata": {
  "kernelspec": {
   "display_name": "Python 3",
   "language": "python",
   "name": "python3"
  },
  "language_info": {
   "codemirror_mode": {
    "name": "ipython",
    "version": 3
   },
   "file_extension": ".py",
   "mimetype": "text/x-python",
   "name": "python",
   "nbconvert_exporter": "python",
   "pygments_lexer": "ipython3",
   "version": "3.8.6"
  }
 },
 "nbformat": 4,
 "nbformat_minor": 4
}
