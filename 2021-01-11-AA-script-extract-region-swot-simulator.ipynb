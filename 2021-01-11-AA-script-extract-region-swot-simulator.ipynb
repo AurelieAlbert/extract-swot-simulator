{
 "cells": [
  {
   "cell_type": "code",
   "execution_count": 1,
   "metadata": {},
   "outputs": [],
   "source": [
    "import xarray as xr\n",
    "import numpy as np\n",
    "import glob"
   ]
  },
  {
   "cell_type": "code",
   "execution_count": 18,
   "metadata": {},
   "outputs": [],
   "source": [
    "phase='science_phase' # calval_phase or science_phase\n",
    "simu='eNATL60-BLB002' # or eNATL60-BLBT02\n",
    "data='karin' # or nadir"
   ]
  },
  {
   "cell_type": "code",
   "execution_count": 3,
   "metadata": {},
   "outputs": [],
   "source": [
    "#parameters for the region to consider\n",
    "reg='MEDWEST'\n",
    "latmin=35.1\n",
    "latmax=44.4\n",
    "lonmin=-5.7\n",
    "lonmax=9.6\n"
   ]
  },
  {
   "cell_type": "code",
   "execution_count": 23,
   "metadata": {},
   "outputs": [],
   "source": [
    "tdir='/work/ALT/swot/aval/wisa/tmp/inland_cleaning/swot_simulator_'+phase+'/'+simu+'-SSH-1h/'+data\n",
    "files=glob.glob(tdir+'/2009/*nc')"
   ]
  },
  {
   "cell_type": "code",
   "execution_count": 24,
   "metadata": {},
   "outputs": [],
   "source": [
    "def check_data_region(file,latmin,latmax,lonmin,lonmax):\n",
    "    ds=xr.open_dataset(file)\n",
    "    latfile=ds.latitude\n",
    "    lonfile=ds.longitude\n",
    "    ind_region=np.where((latfile < latmax) & (latfile > latmin) & \n",
    "        (lonfile < lonmax) & (lonfile > lonmin))\n",
    "    if len(ind_region[0]) > 0:\n",
    " #       print(file+' has data relevant to the region selected')\n",
    "        check=1\n",
    "    else:\n",
    "        check=0\n",
    "    return check,ind_region\n",
    "    "
   ]
  },
  {
   "cell_type": "code",
   "execution_count": 25,
   "metadata": {},
   "outputs": [],
   "source": [
    "def check_data_nonan(file,ind_region):\n",
    "    ds=xr.open_dataset(file)\n",
    "    latfile=ds.latitude\n",
    "    lonfile=ds.longitude\n",
    "    ssh=ds.ssh_karin    \n",
    "    numlines_region=ind_region[0]\n",
    "    numlines_region_unique=np.unique(numlines_region)\n",
    "    for k in np.arange(len(numlines_region_unique)):\n",
    "        isdata=np.where(np.where(ssh[numlines_region_unique[k],:])==False)\n",
    "        if len(isdata[0])>0:\n",
    "            print(file+' has non NaN data')\n",
    "            check=1\n",
    "        else:\n",
    "            check=0\n",
    "        return check,isdata\n"
   ]
  },
  {
   "cell_type": "code",
   "execution_count": 26,
   "metadata": {},
   "outputs": [],
   "source": [
    "for f in np.arange(len(files)):\n",
    "    file=files[f]\n",
    "    check, ind_region = check_data_region(file,latmin,latmax,lonmin,lonmax)\n",
    "    if check == 1:\n",
    "        check2,isdata = check_data_nonan(file,ind_region)\n"
   ]
  },
  {
   "cell_type": "code",
   "execution_count": null,
   "metadata": {},
   "outputs": [],
   "source": []
  }
 ],
 "metadata": {
  "kernelspec": {
   "display_name": "Python 3",
   "language": "python",
   "name": "python3"
  },
  "language_info": {
   "codemirror_mode": {
    "name": "ipython",
    "version": 3
   },
   "file_extension": ".py",
   "mimetype": "text/x-python",
   "name": "python",
   "nbconvert_exporter": "python",
   "pygments_lexer": "ipython3",
   "version": "3.8.6"
  }
 },
 "nbformat": 4,
 "nbformat_minor": 4
}
